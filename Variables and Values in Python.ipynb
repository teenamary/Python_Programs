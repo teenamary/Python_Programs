{
 "cells": [
  {
   "cell_type": "code",
   "execution_count": 4,
   "metadata": {},
   "outputs": [
    {
     "name": "stdout",
     "output_type": "stream",
     "text": [
      "The result of addition of two integers is another integer. Here, x+y= 132\n",
      "When two strings are added, it gets concatinaned. Here, w+z= abcxyz\n"
     ]
    }
   ],
   "source": [
    "#Integer and string values\n",
    "\n",
    "x=54                             #integer\n",
    "y=78\n",
    "z='xyz'                          #string\n",
    "w='abc'\n",
    "print(\"The result of addition of two integers is another integer. Here, x+y=\",x+y)\n",
    "print(\"When two strings are added, it gets concatinaned. Here, w+z=\",w+z)\n",
    "\n",
    "#When an integer and string is added, an error is obtained"
   ]
  },
  {
   "cell_type": "code",
   "execution_count": 7,
   "metadata": {},
   "outputs": [
    {
     "name": "stdout",
     "output_type": "stream",
     "text": [
      "<class 'int'>\n",
      "<class 'str'>\n"
     ]
    }
   ],
   "source": [
    "a=type(x)             #returns the datatype of x\n",
    "b=type(w)\n",
    "print(a)\n",
    "print(b)"
   ]
  },
  {
   "cell_type": "code",
   "execution_count": 8,
   "metadata": {},
   "outputs": [
    {
     "name": "stdout",
     "output_type": "stream",
     "text": [
      "580\n"
     ]
    }
   ],
   "source": [
    "a='5'+'80'               #when inserted in '', integers become string and they are concatinated \n",
    "print(a)"
   ]
  },
  {
   "cell_type": "code",
   "execution_count": 12,
   "metadata": {},
   "outputs": [
    {
     "name": "stdout",
     "output_type": "stream",
     "text": [
      "69.31\n",
      "<class 'float'>\n",
      "23\n",
      "346732.86\n",
      "347000.0\n"
     ]
    }
   ],
   "source": [
    "a=23.34                                      #float\n",
    "b=45.97\n",
    "c=type(a)\n",
    "print(a+b)\n",
    "print(c)\n",
    "print(round(a))                     #rounds off to the closest integer value\n",
    "x=346732.8634795\n",
    "print(round(x,2))                 #rounds floating-point expression n to the 10^-r decimal digit\n",
    "print(round(x,-3))"
   ]
  },
  {
   "cell_type": "code",
   "execution_count": 16,
   "metadata": {},
   "outputs": [
    {
     "name": "stdout",
     "output_type": "stream",
     "text": [
      "Enter number 1:45.7\n",
      "Enter number 2:55.9\n",
      "The sum of the two numbers is 101.6\n"
     ]
    }
   ],
   "source": [
    "num1 = float(input(\"Enter number 1:\"))\n",
    "num2 = float(input(\"Enter number 2:\"))\n",
    "print(\"The sum of the two numbers is\",num1+num2)"
   ]
  },
  {
   "cell_type": "code",
   "execution_count": 19,
   "metadata": {},
   "outputs": [
    {
     "name": "stdout",
     "output_type": "stream",
     "text": [
      "Hello dear friend\n",
      "We're learning Python\n",
      "Hope you are enjoying \n"
     ]
    }
   ],
   "source": [
    "#We use ('''xyz''' )triple quotes to write multi line strings\n",
    "\n",
    "x= '''Hello dear friend\n",
    "We're learning Python\n",
    "Hope you are enjoying '''\n",
    "print(x)"
   ]
  }
 ],
 "metadata": {
  "kernelspec": {
   "display_name": "Python 3",
   "language": "python",
   "name": "python3"
  },
  "language_info": {
   "codemirror_mode": {
    "name": "ipython",
    "version": 3
   },
   "file_extension": ".py",
   "mimetype": "text/x-python",
   "name": "python",
   "nbconvert_exporter": "python",
   "pygments_lexer": "ipython3",
   "version": "3.7.3"
  }
 },
 "nbformat": 4,
 "nbformat_minor": 2
}
