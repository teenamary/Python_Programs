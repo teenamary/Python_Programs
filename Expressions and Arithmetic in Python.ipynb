{
 "cells": [
  {
   "cell_type": "code",
   "execution_count": 1,
   "metadata": {},
   "outputs": [
    {
     "name": "stdout",
     "output_type": "stream",
     "text": [
      "Enter a number:23\n",
      "Enter another number:67\n",
      "23 + 67 = 90\n"
     ]
    }
   ],
   "source": [
    "#Expressions\n",
    "\n",
    "num1=int(input(\"Enter a number:\"))\n",
    "num2=int(input(\"Enter another number:\"))\n",
    "sum=num1+num2\n",
    "print(num1, '+',num2,'=',sum)"
   ]
  },
  {
   "cell_type": "code",
   "execution_count": 2,
   "metadata": {},
   "outputs": [
    {
     "name": "stdout",
     "output_type": "stream",
     "text": [
      "15\n",
      "5\n",
      "50\n",
      "2.0\n",
      "2\n",
      "0\n",
      "100000\n"
     ]
    }
   ],
   "source": [
    "x=10                           #Arithmetic\n",
    "y=5\n",
    "print(x+y)                 #added if x and y are numbers and concatinated if they are strings\n",
    "print(x-y)                 #subtraction\n",
    "print(x*y)                 #Product\n",
    "print(x/y)                 #division\n",
    "print(x//y)                #Floor of x divided by y\n",
    "print(x%y)                 #Remainder of x divided by y\n",
    "print(x**y)                #x raised to the power y"
   ]
  },
  {
   "cell_type": "code",
   "execution_count": 5,
   "metadata": {},
   "outputs": [
    {
     "name": "stdout",
     "output_type": "stream",
     "text": [
      "20\n",
      "-7\n",
      "1\n",
      "-72\n"
     ]
    }
   ],
   "source": [
    "#precedence and associativity\n",
    "#Multiplication and division is done before addition and subtraction\n",
    "print(2+3*6)\n",
    "print(2-5-4)           #left associative (binary operators)\n",
    "print(-3+4)            #unary operators are right associative\n",
    "print(-(67+5))"
   ]
  },
  {
   "cell_type": "code",
   "execution_count": 6,
   "metadata": {},
   "outputs": [
    {
     "name": "stdout",
     "output_type": "stream",
     "text": [
      "30.0\n"
     ]
    }
   ],
   "source": [
    "x=2\n",
    "y=6\n",
    "print(3*(x+7)+9/(y-3))"
   ]
  },
  {
   "cell_type": "code",
   "execution_count": null,
   "metadata": {},
   "outputs": [],
   "source": []
  }
 ],
 "metadata": {
  "kernelspec": {
   "display_name": "Python 3",
   "language": "python",
   "name": "python3"
  },
  "language_info": {
   "codemirror_mode": {
    "name": "ipython",
    "version": 3
   },
   "file_extension": ".py",
   "mimetype": "text/x-python",
   "name": "python",
   "nbconvert_exporter": "python",
   "pygments_lexer": "ipython3",
   "version": "3.7.3"
  }
 },
 "nbformat": 4,
 "nbformat_minor": 2
}
